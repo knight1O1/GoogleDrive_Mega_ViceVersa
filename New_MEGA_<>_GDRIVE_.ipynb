{
  "nbformat": 4,
  "nbformat_minor": 0,
  "metadata": {
    "colab": {
      "name": "New MEGA <>  GDRIVE  .ipynb",
      "provenance": [],
      "include_colab_link": true
    },
    "kernelspec": {
      "name": "python3",
      "display_name": "Python 3"
    },
    "language_info": {
      "name": "python"
    }
  },
  "cells": [
    {
      "cell_type": "markdown",
      "metadata": {
        "id": "view-in-github",
        "colab_type": "text"
      },
      "source": [
        "<a href=\"https://colab.research.google.com/github/knight1O1/GoogleDrive_Mega_ViceVersa/blob/main/New_MEGA_%3C%3E_GDRIVE_.ipynb\" target=\"_parent\"><img src=\"https://colab.research.google.com/assets/colab-badge.svg\" alt=\"Open In Colab\"/></a>"
      ]
    },
    {
      "cell_type": "markdown",
      "metadata": {
        "id": "cJzY3hfpLwPj"
      },
      "source": [
        "\n",
        "#<font color='aqua'>GOOGLE DRIVE </font> to  <font color='red'>MEGA DRIVE </font> <font color='green'> >>> Tested </font> <font color='yellow'> >>> Noob friendly </font>\n",
        "\n"
      ]
    },
    {
      "cell_type": "markdown",
      "metadata": {
        "id": "J52UcRvTx-pA"
      },
      "source": [
        "# 1.Installation  <img src='https://biplobsd.github.io/RLabClone/img/title_rclonelab.svg' height=\"45\" alt=\"RcloneLab\"/>\n",
        "\n",
        "Just click play button <br>\n",
        "👇 Here"
      ]
    },
    {
      "cell_type": "code",
      "metadata": {
        "id": "967x0RwzyWCb"
      },
      "source": [
        "!wget https://downloads.rclone.org/v1.52.1/rclone-v1.52.1-linux-amd64.deb\n",
        "!apt install ./rclone-v1.52.1-linux-amd64.deb"
      ],
      "execution_count": null,
      "outputs": []
    },
    {
      "cell_type": "markdown",
      "metadata": {
        "id": "jgKFdBt6xlJ8"
      },
      "source": [
        "#2. Google Drive Mount\n",
        "\n",
        "Run this code to connect this Colab Notebook to your Google Drive.<br> This will open a mesage dialog  <font color='#7f9fbb'> Run Anyway</font> to continue.\n",
        "<br> A Google account login window will open, select/type the google account you wants to use."
      ]
    },
    {
      "cell_type": "code",
      "metadata": {
        "id": "nJG-49KYxi_R"
      },
      "source": [
        "from google.colab import drive\n",
        "drive.mount('/content/drive')"
      ],
      "execution_count": null,
      "outputs": []
    },
    {
      "cell_type": "markdown",
      "source": [
        "*   After successful connection you are able to see you drive folders\n",
        "\n",
        "<br>👈 Here (In this left side panel, which shows all files & folders)\n",
        "\n",
        "<br>\n",
        "\n",
        "*   If not present then there is some issue in Mounting.\n",
        "\n",
        "\n"
      ],
      "metadata": {
        "id": "ZCoL5f9JunFi"
      }
    },
    {
      "cell_type": "markdown",
      "metadata": {
        "id": "IMgeaazpytxI"
      },
      "source": [
        "# 2.Rclone </font> <font color='orange'>Authenticate  </font> <img src='https://biplobsd.github.io/RLabClone/img/title_rclonelab.svg' height=\"45\" alt=\"RcloneLab\"/>\n"
      ]
    },
    {
      "cell_type": "markdown",
      "metadata": {
        "id": "rWesbY0FW2yq"
      },
      "source": [
        "# READ THIS FIRST\n",
        "https://github.com/jakiyaa/MEga-to-gdrive-transfer/blob/main/README.md"
      ]
    },
    {
      "cell_type": "code",
      "metadata": {
        "id": "1RD1-hEQBJnA"
      },
      "source": [
        "!sudo cp \"PATH\" /root/.config/rclone/rclone.conf  #byepass mega Rclone Authenticate"
      ],
      "execution_count": null,
      "outputs": []
    },
    {
      "cell_type": "code",
      "metadata": {
        "id": "T3Q3NrC8wI7D"
      },
      "source": [
        "!rclone config  #you will see your remote"
      ],
      "execution_count": null,
      "outputs": []
    },
    {
      "cell_type": "markdown",
      "metadata": {
        "id": "izIcQD3QBtCJ"
      },
      "source": [
        "If you copied  successfully <font color='red'>rclone.config </font> file  you will show you remote \"MEGA\"\n",
        "after run <font color='red'>  !rclone config</font>"
      ]
    },
    {
      "cell_type": "markdown",
      "metadata": {
        "id": "eqVwKRRQycuK"
      },
      "source": [
        "# 3.Rclone<font color='yellow'>  Mount MEGA\n",
        "\n",
        "\n"
      ]
    },
    {
      "cell_type": "code",
      "metadata": {
        "id": "UuAga4Edymzm"
      },
      "source": [
        "!mkdir mega\n",
        "!nohup rclone --vfs-cache-mode writes mount mega: ./mega &"
      ],
      "execution_count": null,
      "outputs": []
    },
    {
      "cell_type": "code",
      "metadata": {
        "id": "Fil_bHuAD8S3"
      },
      "source": [
        "!ls ./mega    #after sucessfully mounted onedrive then show your onedrive folders and files"
      ],
      "execution_count": null,
      "outputs": []
    },
    {
      "cell_type": "markdown",
      "metadata": {
        "id": "lS5rCnbXzG78"
      },
      "source": [
        "# **4.Transfer**"
      ]
    },
    {
      "cell_type": "code",
      "metadata": {
        "id": "dIgfcz89xsRZ"
      },
      "source": [
        "!rsync -ah --progress #source path/ destinationpath/       ex= !rsync -ah --progress mega/123/ gdrive/downloads\n"
      ],
      "execution_count": null,
      "outputs": []
    }
  ]
}